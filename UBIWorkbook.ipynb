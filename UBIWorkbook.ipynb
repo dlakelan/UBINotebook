{
 "cells": [
  {
   "cell_type": "markdown",
   "metadata": {},
   "source": [
    "# Universal Basic Income \n",
    "## Design a Tax Code that Works\n",
    "\n",
    "This workbook advocates that Universal Basic Income plus a flat income tax implements a scheme that is overall a near-optimal progressive taxation scheme, which is much fairer to families with two working spouses, which reduces income inequality with attendant potential reductions in violent crime and dramatically lower complexity.\n",
    "\n",
    "The workbook shows the mathematics of how this kind of taxation works, allows you to compare the scheme to optimal schemes with your favorite set of preferences, and lets you estimate the financial situation of a number of different examples families to understand the advantages."
   ]
  },
  {
   "cell_type": "code",
   "execution_count": null,
   "metadata": {},
   "outputs": [],
   "source": []
  }
 ],
 "metadata": {
  "kernelspec": {
   "display_name": "Julia 1.10.2",
   "language": "julia",
   "name": "julia-1.10"
  },
  "language_info": {
   "file_extension": ".jl",
   "mimetype": "application/julia",
   "name": "julia",
   "version": "1.10.2"
  },
  "orig_nbformat": 4
 },
 "nbformat": 4,
 "nbformat_minor": 2
}
